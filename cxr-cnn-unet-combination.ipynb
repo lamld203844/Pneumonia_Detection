{
 "cells": [
  {
   "cell_type": "code",
   "execution_count": 1,
   "id": "e89a7b3a",
   "metadata": {
    "_cell_guid": "b1076dfc-b9ad-4769-8c92-a6c4dae69d19",
    "_uuid": "8f2839f25d086af736a60e9eeb907d3b93b6e0e5",
    "execution": {
     "iopub.execute_input": "2023-06-29T00:37:14.409488Z",
     "iopub.status.busy": "2023-06-29T00:37:14.408720Z",
     "iopub.status.idle": "2023-06-29T00:37:20.660972Z",
     "shell.execute_reply": "2023-06-29T00:37:20.660025Z"
    },
    "papermill": {
     "duration": 6.263376,
     "end_time": "2023-06-29T00:37:20.663432",
     "exception": false,
     "start_time": "2023-06-29T00:37:14.400056",
     "status": "completed"
    },
    "tags": []
   },
   "outputs": [],
   "source": [
    "# This Python 3 environment comes with many helpful analytics libraries installed\n",
    "# It is defined by the kaggle/python Docker image: https://github.com/kaggle/docker-python\n",
    "# For example, here's several helpful packages to load\n",
    "\n",
    "import numpy as np # linear algebra\n",
    "import pandas as pd # data processing, CSV file I/O (e.g. pd.read_csv)\n",
    "\n",
    "# Input data files are available in the read-only \"../input/\" directory\n",
    "# For example, running this (by clicking run or pressing Shift+Enter) will list all files under the input directory\n",
    "\n",
    "import os\n",
    "for dirname, _, filenames in os.walk('/kaggle/input'):\n",
    "    for filename in filenames:\n",
    "        os.path.join(dirname, filename)\n",
    "\n",
    "# You can write up to 20GB to the current directory (/kaggle/working/) that gets preserved as output when you create a version using \"Save & Run All\" \n",
    "# You can also write temporary files to /kaggle/temp/, but they won't be saved outside of the current session"
   ]
  },
  {
   "cell_type": "markdown",
   "id": "e949e374",
   "metadata": {
    "papermill": {
     "duration": 0.006492,
     "end_time": "2023-06-29T00:37:20.676667",
     "exception": false,
     "start_time": "2023-06-29T00:37:20.670175",
     "status": "completed"
    },
    "tags": []
   },
   "source": [
    "- Pneumonia is a very common disease. It can be either: 1) Bacterial pneumonia 2) Viral Pneumonia 3) Mycoplasma pneumonia and 4) Fungal pneumonia. This dataset consists pneumonia samples belonging to the first two classes. The dataset consists of only very few samples and that too unbalanced. The aim of this kernel is to develop a robust deep learning model from scratch on this limited amount of data. We all know that deep learning models are data hungry but if you know how things work, you can build good models even with a limited amount of data."
   ]
  },
  {
   "cell_type": "markdown",
   "id": "672e0acd",
   "metadata": {
    "papermill": {
     "duration": 0.005993,
     "end_time": "2023-06-29T00:37:20.688825",
     "exception": false,
     "start_time": "2023-06-29T00:37:20.682832",
     "status": "completed"
    },
    "tags": []
   },
   "source": [
    "## Set up"
   ]
  },
  {
   "cell_type": "code",
   "execution_count": 2,
   "id": "86a47d03",
   "metadata": {
    "execution": {
     "iopub.execute_input": "2023-06-29T00:37:20.702822Z",
     "iopub.status.busy": "2023-06-29T00:37:20.701947Z",
     "iopub.status.idle": "2023-06-29T00:37:30.404456Z",
     "shell.execute_reply": "2023-06-29T00:37:30.403496Z"
    },
    "papermill": {
     "duration": 9.711827,
     "end_time": "2023-06-29T00:37:30.406544",
     "exception": false,
     "start_time": "2023-06-29T00:37:20.694717",
     "status": "completed"
    },
    "tags": []
   },
   "outputs": [
    {
     "name": "stderr",
     "output_type": "stream",
     "text": [
      "/opt/conda/lib/python3.10/site-packages/tensorflow_io/python/ops/__init__.py:98: UserWarning: unable to load libtensorflow_io_plugins.so: unable to open file: libtensorflow_io_plugins.so, from paths: ['/opt/conda/lib/python3.10/site-packages/tensorflow_io/python/ops/libtensorflow_io_plugins.so']\n",
      "caused by: ['/opt/conda/lib/python3.10/site-packages/tensorflow_io/python/ops/libtensorflow_io_plugins.so: undefined symbol: _ZN3tsl6StatusC1EN10tensorflow5error4CodeESt17basic_string_viewIcSt11char_traitsIcEENS_14SourceLocationE']\n",
      "  warnings.warn(f\"unable to load libtensorflow_io_plugins.so: {e}\")\n",
      "/opt/conda/lib/python3.10/site-packages/tensorflow_io/python/ops/__init__.py:104: UserWarning: file system plugins are not loaded: unable to open file: libtensorflow_io.so, from paths: ['/opt/conda/lib/python3.10/site-packages/tensorflow_io/python/ops/libtensorflow_io.so']\n",
      "caused by: ['/opt/conda/lib/python3.10/site-packages/tensorflow_io/python/ops/libtensorflow_io.so: undefined symbol: _ZTVN10tensorflow13GcsFileSystemE']\n",
      "  warnings.warn(f\"file system plugins are not loaded: {e}\")\n"
     ]
    },
    {
     "data": {
      "text/plain": [
       "['chest_xray', '__MACOSX', 'val', 'test', 'train']"
      ]
     },
     "execution_count": 2,
     "metadata": {},
     "output_type": "execute_result"
    }
   ],
   "source": [
    "import os\n",
    "import numpy as np\n",
    "import pandas as pd \n",
    "import matplotlib.pyplot as plt\n",
    "import seaborn as sns\n",
    "import tensorflow as tf\n",
    "from tensorflow import keras\n",
    "\n",
    "os.listdir(\"../input/chest-xray-pneumonia/chest_xray\")"
   ]
  },
  {
   "cell_type": "code",
   "execution_count": 3,
   "id": "5586a697",
   "metadata": {
    "execution": {
     "iopub.execute_input": "2023-06-29T00:37:30.423231Z",
     "iopub.status.busy": "2023-06-29T00:37:30.421720Z",
     "iopub.status.idle": "2023-06-29T00:37:30.432999Z",
     "shell.execute_reply": "2023-06-29T00:37:30.432070Z"
    },
    "papermill": {
     "duration": 0.021763,
     "end_time": "2023-06-29T00:37:30.435251",
     "exception": false,
     "start_time": "2023-06-29T00:37:30.413488",
     "status": "completed"
    },
    "tags": []
   },
   "outputs": [
    {
     "name": "stdout",
     "output_type": "stream",
     "text": [
      "3875\n",
      "1341\n"
     ]
    }
   ],
   "source": [
    "print(len(os.listdir(\"../input/chest-xray-pneumonia/chest_xray/train/PNEUMONIA\")))\n",
    "print(len(os.listdir(\"../input/chest-xray-pneumonia/chest_xray/train/NORMAL\")))"
   ]
  },
  {
   "cell_type": "markdown",
   "id": "bebb2ee4",
   "metadata": {
    "papermill": {
     "duration": 0.006912,
     "end_time": "2023-06-29T00:37:30.448967",
     "exception": false,
     "start_time": "2023-06-29T00:37:30.442055",
     "status": "completed"
    },
    "tags": []
   },
   "source": [
    "The dataset is divided into three sets: 1) Train set 2) Validation set and 3) Test set."
   ]
  },
  {
   "cell_type": "code",
   "execution_count": 4,
   "id": "e7a04199",
   "metadata": {
    "execution": {
     "iopub.execute_input": "2023-06-29T00:37:30.463222Z",
     "iopub.status.busy": "2023-06-29T00:37:30.462914Z",
     "iopub.status.idle": "2023-06-29T00:37:30.478149Z",
     "shell.execute_reply": "2023-06-29T00:37:30.476416Z"
    },
    "papermill": {
     "duration": 0.024716,
     "end_time": "2023-06-29T00:37:30.480143",
     "exception": false,
     "start_time": "2023-06-29T00:37:30.455427",
     "status": "completed"
    },
    "tags": []
   },
   "outputs": [
    {
     "name": "stdout",
     "output_type": "stream",
     "text": [
      "Train set:\n",
      "========================================\n",
      "PNEUMONIA=3875\n",
      "NORMAL=1341\n",
      "Test set:\n",
      "========================================\n",
      "PNEUMONIA=390\n",
      "NORMAL=234\n",
      "Validation set:\n",
      "========================================\n",
      "PNEUMONIA=8\n",
      "NORMAL=8\n"
     ]
    }
   ],
   "source": [
    "train_dir = \"../input/chest-xray-pneumonia/chest_xray/train\"\n",
    "test_dir = \"../input/chest-xray-pneumonia/chest_xray/test\"\n",
    "val_dir = \"../input/chest-xray-pneumonia/chest_xray/val\"\n",
    "\n",
    "print(\"Train set:\\n========================================\")\n",
    "num_pneumonia = len(os.listdir(os.path.join(train_dir, 'PNEUMONIA')))\n",
    "num_normal = len(os.listdir(os.path.join(train_dir, 'NORMAL')))\n",
    "print(f\"PNEUMONIA={num_pneumonia}\")\n",
    "print(f\"NORMAL={num_normal}\")\n",
    "\n",
    "print(\"Test set:\\n========================================\")\n",
    "print(f\"PNEUMONIA={len(os.listdir(os.path.join(test_dir, 'PNEUMONIA')))}\")\n",
    "print(f\"NORMAL={len(os.listdir(os.path.join(test_dir, 'NORMAL')))}\")\n",
    "\n",
    "print(\"Validation set:\\n========================================\")\n",
    "print(f\"PNEUMONIA={len(os.listdir(os.path.join(val_dir, 'PNEUMONIA')))}\")\n",
    "print(f\"NORMAL={len(os.listdir(os.path.join(val_dir, 'NORMAL')))}\")"
   ]
  },
  {
   "cell_type": "markdown",
   "id": "34f78590",
   "metadata": {
    "papermill": {
     "duration": 0.006834,
     "end_time": "2023-06-29T00:37:30.493509",
     "exception": false,
     "start_time": "2023-06-29T00:37:30.486675",
     "status": "completed"
    },
    "tags": []
   },
   "source": [
    "# Image preprocessing"
   ]
  },
  {
   "cell_type": "markdown",
   "id": "6c4d17c2",
   "metadata": {
    "papermill": {
     "duration": 0.00637,
     "end_time": "2023-06-29T00:37:30.507087",
     "exception": false,
     "start_time": "2023-06-29T00:37:30.500717",
     "status": "completed"
    },
    "tags": []
   },
   "source": [
    "Before training, we'll first modify your images to be better suited for training a convolutional neural network. For this task we'll use the Keras ImageDataGenerator function to perform data preprocessing and data augmentation.\n",
    "\n",
    "This class also provides support for basic data augmentation such as random horizontal flipping of images. We also use the generator to transform the values in each batch so that their mean is 0 and their standard deviation is 1 (this will faciliate model training by standardizing the input distribution). The generator also converts our single channel X-ray images (gray-scale) to a three-channel format by repeating the values in the image across all channels (we will want this because the pre-trained model that we'll use requires three-channel inputs)."
   ]
  },
  {
   "cell_type": "code",
   "execution_count": 5,
   "id": "d1264c69",
   "metadata": {
    "execution": {
     "iopub.execute_input": "2023-06-29T00:37:30.521620Z",
     "iopub.status.busy": "2023-06-29T00:37:30.521348Z",
     "iopub.status.idle": "2023-06-29T00:37:30.526059Z",
     "shell.execute_reply": "2023-06-29T00:37:30.525130Z"
    },
    "papermill": {
     "duration": 0.014448,
     "end_time": "2023-06-29T00:37:30.528285",
     "exception": false,
     "start_time": "2023-06-29T00:37:30.513837",
     "status": "completed"
    },
    "tags": []
   },
   "outputs": [],
   "source": [
    "from keras.preprocessing.image import ImageDataGenerator\n",
    "\n",
    "image_generator = ImageDataGenerator(\n",
    "    rotation_range=10,\n",
    "    horizontal_flip=True,\n",
    ")"
   ]
  },
  {
   "cell_type": "markdown",
   "id": "98926b88",
   "metadata": {
    "papermill": {
     "duration": 0.006482,
     "end_time": "2023-06-29T00:37:30.541283",
     "exception": false,
     "start_time": "2023-06-29T00:37:30.534801",
     "status": "completed"
    },
    "tags": []
   },
   "source": [
    "# Build a separate generator fo valid and test sets"
   ]
  },
  {
   "cell_type": "code",
   "execution_count": 6,
   "id": "774858e7",
   "metadata": {
    "execution": {
     "iopub.execute_input": "2023-06-29T00:37:30.555596Z",
     "iopub.status.busy": "2023-06-29T00:37:30.555038Z",
     "iopub.status.idle": "2023-06-29T00:37:30.559404Z",
     "shell.execute_reply": "2023-06-29T00:37:30.558499Z"
    },
    "papermill": {
     "duration": 0.013486,
     "end_time": "2023-06-29T00:37:30.561321",
     "exception": false,
     "start_time": "2023-06-29T00:37:30.547835",
     "status": "completed"
    },
    "tags": []
   },
   "outputs": [],
   "source": [
    "IMG_SIZE = 256"
   ]
  },
  {
   "cell_type": "code",
   "execution_count": 7,
   "id": "115641c2",
   "metadata": {
    "execution": {
     "iopub.execute_input": "2023-06-29T00:37:30.576342Z",
     "iopub.status.busy": "2023-06-29T00:37:30.575536Z",
     "iopub.status.idle": "2023-06-29T00:37:31.710595Z",
     "shell.execute_reply": "2023-06-29T00:37:31.709693Z"
    },
    "papermill": {
     "duration": 1.144757,
     "end_time": "2023-06-29T00:37:31.712821",
     "exception": false,
     "start_time": "2023-06-29T00:37:30.568064",
     "status": "completed"
    },
    "tags": []
   },
   "outputs": [
    {
     "name": "stdout",
     "output_type": "stream",
     "text": [
      "Found 5216 images belonging to 2 classes.\n",
      "Found 16 images belonging to 2 classes.\n",
      "Found 624 images belonging to 2 classes.\n"
     ]
    }
   ],
   "source": [
    "train_dir = \"../input/chest-xray-pneumonia/chest_xray/train\"\n",
    "test_dir = \"../input/chest-xray-pneumonia/chest_xray/test\"\n",
    "val_dir = \"../input/chest-xray-pneumonia/chest_xray/val\"\n",
    "\n",
    "train = image_generator.flow_from_directory(train_dir, \n",
    "                                            batch_size=8, \n",
    "                                            shuffle=True, \n",
    "                                            class_mode='binary',\n",
    "                                            target_size=(IMG_SIZE, IMG_SIZE))\n",
    "\n",
    "validation = image_generator.flow_from_directory(val_dir, \n",
    "                                                batch_size=1, \n",
    "                                                shuffle=False, \n",
    "                                                class_mode='binary',\n",
    "                                                target_size=(IMG_SIZE, IMG_SIZE))\n",
    "\n",
    "test = image_generator.flow_from_directory(test_dir, \n",
    "                                            batch_size=1, \n",
    "                                            shuffle=False, \n",
    "                                            class_mode='binary',\n",
    "                                            target_size=(IMG_SIZE, IMG_SIZE))"
   ]
  },
  {
   "cell_type": "code",
   "execution_count": 8,
   "id": "d3b9d2ec",
   "metadata": {
    "execution": {
     "iopub.execute_input": "2023-06-29T00:37:31.729017Z",
     "iopub.status.busy": "2023-06-29T00:37:31.728054Z",
     "iopub.status.idle": "2023-06-29T00:37:32.568088Z",
     "shell.execute_reply": "2023-06-29T00:37:32.567075Z"
    },
    "papermill": {
     "duration": 0.850221,
     "end_time": "2023-06-29T00:37:32.570306",
     "exception": false,
     "start_time": "2023-06-29T00:37:31.720085",
     "status": "completed"
    },
    "tags": []
   },
   "outputs": [
    {
     "name": "stdout",
     "output_type": "stream",
     "text": [
      "The dimensions of the image are 256 pixels width and 256 pixels height, one single color channel.\n",
      "The maximum pixel value is 255.0000 and the minimum is 0.0000\n",
      "The mean value of the pixels is 116.9355 and the standard deviation is 60.3918\n"
     ]
    },
    {
     "data": {
      "image/png": "[encoded data removed]",
      "text/plain": [
       "<Figure size 640x480 with 2 Axes>"
      ]
     },
     "metadata": {},
     "output_type": "display_data"
    }
   ],
   "source": [
    "sns.set_style('white')\n",
    "generated_image, label = train.__getitem__(0)\n",
    "plt.imshow(generated_image[0], cmap='gray')\n",
    "plt.colorbar()\n",
    "plt.title('Raw Chest X Ray Image')\n",
    "\n",
    "print(f\"The dimensions of the image are {generated_image.shape[1]} pixels width and {generated_image.shape[2]} pixels height, one single color channel.\")\n",
    "print(f\"The maximum pixel value is {generated_image.max():.4f} and the minimum is {generated_image.min():.4f}\")\n",
    "print(f\"The mean value of the pixels is {generated_image.mean():.4f} and the standard deviation is {generated_image.std():.4f}\")"
   ]
  },
  {
   "cell_type": "markdown",
   "id": "370e68ce",
   "metadata": {
    "papermill": {
     "duration": 0.007248,
     "end_time": "2023-06-29T00:37:32.585692",
     "exception": false,
     "start_time": "2023-06-29T00:37:32.578444",
     "status": "completed"
    },
    "tags": []
   },
   "source": [
    "# Model building"
   ]
  },
  {
   "cell_type": "code",
   "execution_count": 9,
   "id": "7b6f94af",
   "metadata": {
    "execution": {
     "iopub.execute_input": "2023-06-29T00:37:32.603864Z",
     "iopub.status.busy": "2023-06-29T00:37:32.602221Z",
     "iopub.status.idle": "2023-06-29T00:37:32.608238Z",
     "shell.execute_reply": "2023-06-29T00:37:32.607165Z"
    },
    "papermill": {
     "duration": 0.016919,
     "end_time": "2023-06-29T00:37:32.610446",
     "exception": false,
     "start_time": "2023-06-29T00:37:32.593527",
     "status": "completed"
    },
    "tags": []
   },
   "outputs": [],
   "source": [
    "from keras.models import Sequential\n",
    "from keras.layers import Dense, Conv2D, MaxPool2D, Dropout, Flatten, BatchNormalization\n",
    "from keras.layers import Input, Conv2D, MaxPooling2D, Conv2DTranspose, concatenate\n",
    "from keras import Model"
   ]
  },
  {
   "cell_type": "code",
   "execution_count": 10,
   "id": "f932579b",
   "metadata": {
    "execution": {
     "iopub.execute_input": "2023-06-29T00:37:32.627016Z",
     "iopub.status.busy": "2023-06-29T00:37:32.626726Z",
     "iopub.status.idle": "2023-06-29T00:37:32.632760Z",
     "shell.execute_reply": "2023-06-29T00:37:32.631871Z"
    },
    "papermill": {
     "duration": 0.016362,
     "end_time": "2023-06-29T00:37:32.634886",
     "exception": false,
     "start_time": "2023-06-29T00:37:32.618524",
     "status": "completed"
    },
    "tags": []
   },
   "outputs": [
    {
     "name": "stdout",
     "output_type": "stream",
     "text": [
      "Weight for class 0: 0.74\n",
      "Weight for class 1: 0.26\n"
     ]
    }
   ],
   "source": [
    "# Class weights\n",
    "\n",
    "weight_for_0 = num_pneumonia / (num_normal + num_pneumonia)\n",
    "weight_for_1 = num_normal / (num_normal + num_pneumonia)\n",
    "\n",
    "class_weight = {0: weight_for_0, 1: weight_for_1}\n",
    "\n",
    "print(f\"Weight for class 0: {weight_for_0:.2f}\")\n",
    "print(f\"Weight for class 1: {weight_for_1:.2f}\")"
   ]
  },
  {
   "cell_type": "code",
   "execution_count": 11,
   "id": "6977cd34",
   "metadata": {
    "execution": {
     "iopub.execute_input": "2023-06-29T00:37:32.652269Z",
     "iopub.status.busy": "2023-06-29T00:37:32.651958Z",
     "iopub.status.idle": "2023-06-29T00:37:32.675561Z",
     "shell.execute_reply": "2023-06-29T00:37:32.674659Z"
    },
    "papermill": {
     "duration": 0.035041,
     "end_time": "2023-06-29T00:37:32.677737",
     "exception": false,
     "start_time": "2023-06-29T00:37:32.642696",
     "status": "completed"
    },
    "tags": []
   },
   "outputs": [],
   "source": [
    "def unet_combination_build(input_size=(IMG_SIZE, IMG_SIZE, 3)):\n",
    "    # U-net block\n",
    "    inputs = Input(input_size)\n",
    "    \n",
    "    conv1 = Conv2D(32, (3, 3), activation='relu', padding='same')(inputs)\n",
    "    conv1 = Conv2D(32, (3, 3), activation='relu', padding='same')(conv1)\n",
    "    pool1 = MaxPooling2D(pool_size=(2, 2))(conv1)\n",
    "\n",
    "    conv2 = Conv2D(64, (3, 3), activation='relu', padding='same')(pool1)\n",
    "    conv2 = Conv2D(64, (3, 3), activation='relu', padding='same')(conv2)\n",
    "    pool2 = MaxPooling2D(pool_size=(2, 2))(conv2)\n",
    "\n",
    "    conv3 = Conv2D(128, (3, 3), activation='relu', padding='same')(pool2)\n",
    "    conv3 = Conv2D(128, (3, 3), activation='relu', padding='same')(conv3)\n",
    "    pool3 = MaxPooling2D(pool_size=(2, 2))(conv3)\n",
    "\n",
    "    conv4 = Conv2D(256, (3, 3), activation='relu', padding='same')(pool3)\n",
    "    conv4 = Conv2D(256, (3, 3), activation='relu', padding='same')(conv4)\n",
    "    pool4 = MaxPooling2D(pool_size=(2, 2))(conv4)\n",
    "\n",
    "    conv5 = Conv2D(512, (3, 3), activation='relu', padding='same')(pool4)\n",
    "    conv5 = Conv2D(512, (3, 3), activation='relu', padding='same')(conv5)\n",
    "\n",
    "    up6 = concatenate([Conv2DTranspose(256, (2, 2), strides=(2, 2), padding='same')(conv5), conv4], axis=3)\n",
    "    conv6 = Conv2D(256, (3, 3), activation='relu', padding='same')(up6)\n",
    "    conv6 = Conv2D(256, (3, 3), activation='relu', padding='same')(conv6)\n",
    "\n",
    "    up7 = concatenate([Conv2DTranspose(128, (2, 2), strides=(2, 2), padding='same')(conv6), conv3], axis=3)\n",
    "    conv7 = Conv2D(128, (3, 3), activation='relu', padding='same')(up7)\n",
    "    conv7 = Conv2D(128, (3, 3), activation='relu', padding='same')(conv7)\n",
    "\n",
    "    up8 = concatenate([Conv2DTranspose(64, (2, 2), strides=(2, 2), padding='same')(conv7), conv2], axis=3)\n",
    "    conv8 = Conv2D(64, (3, 3), activation='relu', padding='same')(up8)\n",
    "    conv8 = Conv2D(64, (3, 3), activation='relu', padding='same')(conv8)\n",
    "\n",
    "    up9 = concatenate([Conv2DTranspose(32, (2, 2), strides=(2, 2), padding='same')(conv8), conv1], axis=3)\n",
    "    conv9 = Conv2D(32, (3, 3), activation='relu', padding='same')(up9)\n",
    "    conv9 = Conv2D(32, (3, 3), activation='relu', padding='same')(conv9)\n",
    "\n",
    "    conv10 = Conv2D(1, (1, 1), activation='sigmoid')(conv9)\n",
    "    \n",
    "    # Classification layer (classical CNN)\n",
    "    # conv block 32\n",
    "    cnn_conv1 = Conv2D(32, kernel_size=(3, 3), activation='relu')(conv10)\n",
    "    batch1 = BatchNormalization()(cnn_conv1)\n",
    "    cnn_conv2 = Conv2D(32, kernel_size=(3, 3), activation='relu')(cnn_conv1)\n",
    "    batch2 = BatchNormalization()(cnn_conv2)\n",
    "    pooling1 = MaxPool2D(pool_size=(2, 2))(cnn_conv2)\n",
    "    dropout1 = Dropout(0.2)(pooling1)\n",
    "    \n",
    "    # conv block 64\n",
    "    cnn_conv3 = Conv2D(64, kernel_size=(3, 3), activation='relu')(pooling1)\n",
    "    batch3 = BatchNormalization()(cnn_conv3)\n",
    "    cnn_conv4 = Conv2D(64, kernel_size=(3, 3), activation='relu')(cnn_conv3)\n",
    "    batch4 = BatchNormalization()(cnn_conv4)\n",
    "    pooling2 = MaxPool2D(pool_size=(2, 2))(cnn_conv4)\n",
    "    dropout2 = Dropout(0.2)(pooling2)\n",
    "\n",
    "    # conv block 128\n",
    "    cnn_conv5 = Conv2D(128, kernel_size=(3, 3), activation='relu')(pooling2)\n",
    "    batch5 = BatchNormalization()(cnn_conv5)\n",
    "    cnn_conv6 = Conv2D(128, kernel_size=(3, 3), activation='relu')(cnn_conv5)\n",
    "    batch6 = BatchNormalization()(cnn_conv6)\n",
    "    pooling3 = MaxPool2D(pool_size=(2, 2))(cnn_conv6)\n",
    "    dropout3 = Dropout(0.2)(pooling3)\n",
    "    \n",
    "    flatten = Flatten()(pooling3)\n",
    "    dense1 = Dense(128, activation='relu')(flatten)\n",
    "    dropout = Dropout(0.2)(dense1)\n",
    "    output = Dense(1, activation='sigmoid')(dense1)\n",
    "\n",
    "    return Model(inputs=[inputs], outputs=[output])"
   ]
  },
  {
   "cell_type": "code",
   "execution_count": 12,
   "id": "b4ac47ff",
   "metadata": {
    "execution": {
     "iopub.execute_input": "2023-06-29T00:37:32.695308Z",
     "iopub.status.busy": "2023-06-29T00:37:32.694524Z",
     "iopub.status.idle": "2023-06-29T00:37:32.699264Z",
     "shell.execute_reply": "2023-06-29T00:37:32.698378Z"
    },
    "jupyter": {
     "source_hidden": true
    },
    "papermill": {
     "duration": 0.015514,
     "end_time": "2023-06-29T00:37:32.701262",
     "exception": false,
     "start_time": "2023-06-29T00:37:32.685748",
     "status": "completed"
    },
    "tags": []
   },
   "outputs": [],
   "source": [
    "# def conv_block(filters, dropout_rate):\n",
    "#     block = Sequential([\n",
    "#         Conv2D(filters, kernel_size=(3, 3), activation='relu'),\n",
    "#         BatchNormalization(),\n",
    "#         Conv2D(filters, kernel_size=(3, 3), activation='relu'),\n",
    "#         BatchNormalization(),\n",
    "#         MaxPool2D(pool_size=(2, 2)),\n",
    "#         Dropout(dropout_rate)\n",
    "#     ])\n",
    "    \n",
    "#     return block"
   ]
  },
  {
   "cell_type": "code",
   "execution_count": 13,
   "id": "22ff0d62",
   "metadata": {
    "execution": {
     "iopub.execute_input": "2023-06-29T00:37:32.719414Z",
     "iopub.status.busy": "2023-06-29T00:37:32.718042Z",
     "iopub.status.idle": "2023-06-29T00:37:32.722605Z",
     "shell.execute_reply": "2023-06-29T00:37:32.721704Z"
    },
    "jupyter": {
     "source_hidden": true
    },
    "papermill": {
     "duration": 0.015289,
     "end_time": "2023-06-29T00:37:32.724519",
     "exception": false,
     "start_time": "2023-06-29T00:37:32.709230",
     "status": "completed"
    },
    "tags": []
   },
   "outputs": [],
   "source": [
    "# def dense_block(units, dropout_rate):\n",
    "#     block = Sequential([\n",
    "#         Dense(units, activation='relu'),\n",
    "#         BatchNormalization(),\n",
    "#         Dropout(dropout_rate)\n",
    "#     ])\n",
    "    \n",
    "#     return block"
   ]
  },
  {
   "cell_type": "code",
   "execution_count": 14,
   "id": "a6917add",
   "metadata": {
    "execution": {
     "iopub.execute_input": "2023-06-29T00:37:32.741609Z",
     "iopub.status.busy": "2023-06-29T00:37:32.741345Z",
     "iopub.status.idle": "2023-06-29T00:37:32.747075Z",
     "shell.execute_reply": "2023-06-29T00:37:32.746213Z"
    },
    "jupyter": {
     "source_hidden": true
    },
    "papermill": {
     "duration": 0.016957,
     "end_time": "2023-06-29T00:37:32.749300",
     "exception": false,
     "start_time": "2023-06-29T00:37:32.732343",
     "status": "completed"
    },
    "tags": []
   },
   "outputs": [],
   "source": [
    "# def build_model():\n",
    "#     model = Sequential([\n",
    "# #         # init conv\n",
    "# #         Conv2D(filters=32, kernel_size=(3, 3), input_shape=(IMG_SIZE, IMG_SIZE, 3), activation='relu'),\n",
    "# #         BatchNormalization(),\n",
    "# #         Conv2D(filters=32, kernel_size=(3, 3), input_shape=(IMG_SIZE, IMG_SIZE, 3), activation='relu'),\n",
    "# #         BatchNormalization(),\n",
    "# #         MaxPool2D(pool_size=(2, 2)),\n",
    "#         # init U-net\n",
    "#         unet_block(),\n",
    "\n",
    "#         # conv block\n",
    "#         conv_block(64, 0.2),\n",
    "#         conv_block(128, 0.2),\n",
    "\n",
    "#         Flatten(),\n",
    "\n",
    "#         # Dense block\n",
    "#         dense_block(128, 0.2),\n",
    "\n",
    "#         Dense(1, activation='sigmoid')\n",
    "#     ])\n",
    "    \n",
    "#     return model"
   ]
  },
  {
   "cell_type": "code",
   "execution_count": 15,
   "id": "3d8c7459",
   "metadata": {
    "execution": {
     "iopub.execute_input": "2023-06-29T00:37:32.767501Z",
     "iopub.status.busy": "2023-06-29T00:37:32.767138Z",
     "iopub.status.idle": "2023-06-29T00:37:36.374742Z",
     "shell.execute_reply": "2023-06-29T00:37:36.373701Z"
    },
    "papermill": {
     "duration": 3.619955,
     "end_time": "2023-06-29T00:37:36.377263",
     "exception": false,
     "start_time": "2023-06-29T00:37:32.757308",
     "status": "completed"
    },
    "tags": []
   },
   "outputs": [],
   "source": [
    "model = unet_combination_build()\n",
    "\n",
    "METRICS = [\n",
    "    'accuracy',\n",
    "    tf.keras.metrics.Precision(name='precision'),\n",
    "    tf.keras.metrics.Recall(name='recall')\n",
    "]\n",
    "\n",
    "model.compile(\n",
    "    optimizer='adam',\n",
    "    loss='binary_crossentropy',\n",
    "    metrics=METRICS\n",
    ")"
   ]
  },
  {
   "cell_type": "code",
   "execution_count": 16,
   "id": "89c106bc",
   "metadata": {
    "execution": {
     "iopub.execute_input": "2023-06-29T00:37:36.396775Z",
     "iopub.status.busy": "2023-06-29T00:37:36.396457Z",
     "iopub.status.idle": "2023-06-29T00:37:36.491573Z",
     "shell.execute_reply": "2023-06-29T00:37:36.490749Z"
    },
    "papermill": {
     "duration": 0.194026,
     "end_time": "2023-06-29T00:37:36.580081",
     "exception": false,
     "start_time": "2023-06-29T00:37:36.386055",
     "status": "completed"
    },
    "tags": []
   },
   "outputs": [
    {
     "name": "stdout",
     "output_type": "stream",
     "text": [
      "Model: \"model\"\n",
      "__________________________________________________________________________________________________\n",
      " Layer (type)                   Output Shape         Param #     Connected to                     \n",
      "==================================================================================================\n",
      " input_1 (InputLayer)           [(None, 256, 256, 3  0           []                               \n",
      "                                )]                                                                \n",
      "                                                                                                  \n",
      " conv2d (Conv2D)                (None, 256, 256, 32  896         ['input_1[0][0]']                \n",
      "                                )                                                                 \n",
      "                                                                                                  \n",
      " conv2d_1 (Conv2D)              (None, 256, 256, 32  9248        ['conv2d[0][0]']                 \n",
      "                                )                                                                 \n",
      "                                                                                                  \n",
      " max_pooling2d (MaxPooling2D)   (None, 128, 128, 32  0           ['conv2d_1[0][0]']               \n",
      "                                )                                                                 \n",
      "                                                                                                  \n",
      " conv2d_2 (Conv2D)              (None, 128, 128, 64  18496       ['max_pooling2d[0][0]']          \n",
      "                                )                                                                 \n",
      "                                                                                                  \n",
      " conv2d_3 (Conv2D)              (None, 128, 128, 64  36928       ['conv2d_2[0][0]']               \n",
      "                                )                                                                 \n",
      "                                                                                                  \n",
      " max_pooling2d_1 (MaxPooling2D)  (None, 64, 64, 64)  0           ['conv2d_3[0][0]']               \n",
      "                                                                                                  \n",
      " conv2d_4 (Conv2D)              (None, 64, 64, 128)  73856       ['max_pooling2d_1[0][0]']        \n",
      "                                                                                                  \n",
      " conv2d_5 (Conv2D)              (None, 64, 64, 128)  147584      ['conv2d_4[0][0]']               \n",
      "                                                                                                  \n",
      " max_pooling2d_2 (MaxPooling2D)  (None, 32, 32, 128)  0          ['conv2d_5[0][0]']               \n",
      "                                                                                                  \n",
      " conv2d_6 (Conv2D)              (None, 32, 32, 256)  295168      ['max_pooling2d_2[0][0]']        \n",
      "                                                                                                  \n",
      " conv2d_7 (Conv2D)              (None, 32, 32, 256)  590080      ['conv2d_6[0][0]']               \n",
      "                                                                                                  \n",
      " max_pooling2d_3 (MaxPooling2D)  (None, 16, 16, 256)  0          ['conv2d_7[0][0]']               \n",
      "                                                                                                  \n",
      " conv2d_8 (Conv2D)              (None, 16, 16, 512)  1180160     ['max_pooling2d_3[0][0]']        \n",
      "                                                                                                  \n",
      " conv2d_9 (Conv2D)              (None, 16, 16, 512)  2359808     ['conv2d_8[0][0]']               \n",
      "                                                                                                  \n",
      " conv2d_transpose (Conv2DTransp  (None, 32, 32, 256)  524544     ['conv2d_9[0][0]']               \n",
      " ose)                                                                                             \n",
      "                                                                                                  \n",
      " concatenate (Concatenate)      (None, 32, 32, 512)  0           ['conv2d_transpose[0][0]',       \n",
      "                                                                  'conv2d_7[0][0]']               \n",
      "                                                                                                  \n",
      " conv2d_10 (Conv2D)             (None, 32, 32, 256)  1179904     ['concatenate[0][0]']            \n",
      "                                                                                                  \n",
      " conv2d_11 (Conv2D)             (None, 32, 32, 256)  590080      ['conv2d_10[0][0]']              \n",
      "                                                                                                  \n",
      " conv2d_transpose_1 (Conv2DTran  (None, 64, 64, 128)  131200     ['conv2d_11[0][0]']              \n",
      " spose)                                                                                           \n",
      "                                                                                                  \n",
      " concatenate_1 (Concatenate)    (None, 64, 64, 256)  0           ['conv2d_transpose_1[0][0]',     \n",
      "                                                                  'conv2d_5[0][0]']               \n",
      "                                                                                                  \n",
      " conv2d_12 (Conv2D)             (None, 64, 64, 128)  295040      ['concatenate_1[0][0]']          \n",
      "                                                                                                  \n",
      " conv2d_13 (Conv2D)             (None, 64, 64, 128)  147584      ['conv2d_12[0][0]']              \n",
      "                                                                                                  \n",
      " conv2d_transpose_2 (Conv2DTran  (None, 128, 128, 64  32832      ['conv2d_13[0][0]']              \n",
      " spose)                         )                                                                 \n",
      "                                                                                                  \n",
      " concatenate_2 (Concatenate)    (None, 128, 128, 12  0           ['conv2d_transpose_2[0][0]',     \n",
      "                                8)                                'conv2d_3[0][0]']               \n",
      "                                                                                                  \n",
      " conv2d_14 (Conv2D)             (None, 128, 128, 64  73792       ['concatenate_2[0][0]']          \n",
      "                                )                                                                 \n",
      "                                                                                                  \n",
      " conv2d_15 (Conv2D)             (None, 128, 128, 64  36928       ['conv2d_14[0][0]']              \n",
      "                                )                                                                 \n",
      "                                                                                                  \n",
      " conv2d_transpose_3 (Conv2DTran  (None, 256, 256, 32  8224       ['conv2d_15[0][0]']              \n",
      " spose)                         )                                                                 \n",
      "                                                                                                  \n",
      " concatenate_3 (Concatenate)    (None, 256, 256, 64  0           ['conv2d_transpose_3[0][0]',     \n",
      "                                )                                 'conv2d_1[0][0]']               \n",
      "                                                                                                  \n",
      " conv2d_16 (Conv2D)             (None, 256, 256, 32  18464       ['concatenate_3[0][0]']          \n",
      "                                )                                                                 \n",
      "                                                                                                  \n",
      " conv2d_17 (Conv2D)             (None, 256, 256, 32  9248        ['conv2d_16[0][0]']              \n",
      "                                )                                                                 \n",
      "                                                                                                  \n",
      " conv2d_18 (Conv2D)             (None, 256, 256, 1)  33          ['conv2d_17[0][0]']              \n",
      "                                                                                                  \n",
      " conv2d_19 (Conv2D)             (None, 254, 254, 32  320         ['conv2d_18[0][0]']              \n",
      "                                )                                                                 \n",
      "                                                                                                  \n",
      " conv2d_20 (Conv2D)             (None, 252, 252, 32  9248        ['conv2d_19[0][0]']              \n",
      "                                )                                                                 \n",
      "                                                                                                  \n",
      " max_pooling2d_4 (MaxPooling2D)  (None, 126, 126, 32  0          ['conv2d_20[0][0]']              \n",
      "                                )                                                                 \n",
      "                                                                                                  \n",
      " conv2d_21 (Conv2D)             (None, 124, 124, 64  18496       ['max_pooling2d_4[0][0]']        \n",
      "                                )                                                                 \n",
      "                                                                                                  \n",
      " conv2d_22 (Conv2D)             (None, 122, 122, 64  36928       ['conv2d_21[0][0]']              \n",
      "                                )                                                                 \n",
      "                                                                                                  \n",
      " max_pooling2d_5 (MaxPooling2D)  (None, 61, 61, 64)  0           ['conv2d_22[0][0]']              \n",
      "                                                                                                  \n",
      " conv2d_23 (Conv2D)             (None, 59, 59, 128)  73856       ['max_pooling2d_5[0][0]']        \n",
      "                                                                                                  \n",
      " conv2d_24 (Conv2D)             (None, 57, 57, 128)  147584      ['conv2d_23[0][0]']              \n",
      "                                                                                                  \n",
      " max_pooling2d_6 (MaxPooling2D)  (None, 28, 28, 128)  0          ['conv2d_24[0][0]']              \n",
      "                                                                                                  \n",
      " flatten (Flatten)              (None, 100352)       0           ['max_pooling2d_6[0][0]']        \n",
      "                                                                                                  \n",
      " dense (Dense)                  (None, 128)          12845184    ['flatten[0][0]']                \n",
      "                                                                                                  \n",
      " dense_1 (Dense)                (None, 1)            129         ['dense[0][0]']                  \n",
      "                                                                                                  \n",
      "==================================================================================================\n",
      "Total params: 20,891,842\n",
      "Trainable params: 20,891,842\n",
      "Non-trainable params: 0\n",
      "__________________________________________________________________________________________________\n"
     ]
    }
   ],
   "source": [
    "model.summary()"
   ]
  },
  {
   "cell_type": "code",
   "execution_count": 17,
   "id": "0344d9c6",
   "metadata": {
    "execution": {
     "iopub.execute_input": "2023-06-29T00:37:36.619773Z",
     "iopub.status.busy": "2023-06-29T00:37:36.619250Z",
     "iopub.status.idle": "2023-06-29T00:37:36.639763Z",
     "shell.execute_reply": "2023-06-29T00:37:36.638806Z"
    },
    "papermill": {
     "duration": 0.043204,
     "end_time": "2023-06-29T00:37:36.642038",
     "exception": false,
     "start_time": "2023-06-29T00:37:36.598834",
     "status": "completed"
    },
    "tags": []
   },
   "outputs": [],
   "source": [
    "METRICS = [\n",
    "    'accuracy',\n",
    "    tf.keras.metrics.Precision(name='precision'),\n",
    "    tf.keras.metrics.Recall(name='recall')\n",
    "]\n",
    "\n",
    "model.compile(\n",
    "    optimizer='adam',\n",
    "    loss='binary_crossentropy',\n",
    "    metrics=METRICS\n",
    ")"
   ]
  },
  {
   "cell_type": "code",
   "execution_count": 18,
   "id": "20f3a005",
   "metadata": {
    "execution": {
     "iopub.execute_input": "2023-06-29T00:37:36.681589Z",
     "iopub.status.busy": "2023-06-29T00:37:36.681219Z",
     "iopub.status.idle": "2023-06-29T00:53:44.994305Z",
     "shell.execute_reply": "2023-06-29T00:53:44.993225Z"
    },
    "papermill": {
     "duration": 968.335975,
     "end_time": "2023-06-29T00:53:44.997249",
     "exception": false,
     "start_time": "2023-06-29T00:37:36.661274",
     "status": "completed"
    },
    "tags": []
   },
   "outputs": [
    {
     "name": "stdout",
     "output_type": "stream",
     "text": [
      "Epoch 1/30\n",
      "100/100 [==============================] - 50s 283ms/step - loss: 0.2692 - accuracy: 0.4812 - precision: 0.7520 - recall: 0.4600 - val_loss: 0.7012 - val_accuracy: 0.5000 - val_precision: 0.0000e+00 - val_recall: 0.0000e+00\n",
      "Epoch 2/30\n",
      "100/100 [==============================] - 26s 262ms/step - loss: 0.2776 - accuracy: 0.5225 - precision: 0.8028 - recall: 0.4774\n",
      "Epoch 3/30\n",
      "100/100 [==============================] - 27s 267ms/step - loss: 0.2625 - accuracy: 0.6775 - precision: 0.7457 - recall: 0.8650\n",
      "Epoch 4/30\n",
      "100/100 [==============================] - 25s 250ms/step - loss: 0.2739 - accuracy: 0.6513 - precision: 0.7137 - recall: 0.8569\n",
      "Epoch 5/30\n",
      "100/100 [==============================] - 24s 238ms/step - loss: 0.2670 - accuracy: 0.2637 - precision: 0.0000e+00 - recall: 0.0000e+00\n",
      "Epoch 6/30\n",
      "100/100 [==============================] - 24s 241ms/step - loss: 0.2683 - accuracy: 0.2675 - precision: 0.0000e+00 - recall: 0.0000e+00\n",
      "Epoch 7/30\n",
      "100/100 [==============================] - 26s 257ms/step - loss: 0.2633 - accuracy: 0.2525 - precision: 0.0000e+00 - recall: 0.0000e+00\n",
      "Epoch 8/30\n",
      "100/100 [==============================] - 23s 231ms/step - loss: 0.2641 - accuracy: 0.2550 - precision: 0.0000e+00 - recall: 0.0000e+00\n",
      "Epoch 9/30\n",
      "100/100 [==============================] - 25s 249ms/step - loss: 0.2629 - accuracy: 0.3938 - precision: 0.6979 - recall: 0.3356\n",
      "Epoch 10/30\n",
      "100/100 [==============================] - 25s 253ms/step - loss: 0.2683 - accuracy: 0.2675 - precision: 0.0000e+00 - recall: 0.0000e+00\n",
      "Epoch 11/30\n",
      "100/100 [==============================] - 24s 235ms/step - loss: 0.2566 - accuracy: 0.5150 - precision: 0.7522 - recall: 0.5489\n",
      "Epoch 12/30\n",
      "100/100 [==============================] - 25s 253ms/step - loss: 0.2705 - accuracy: 0.3587 - precision: 0.6771 - recall: 0.2238\n",
      "Epoch 13/30\n",
      "100/100 [==============================] - 22s 222ms/step - loss: 0.2658 - accuracy: 0.2600 - precision: 0.0000e+00 - recall: 0.0000e+00\n",
      "Epoch 14/30\n",
      "100/100 [==============================] - 22s 215ms/step - loss: 0.2736 - accuracy: 0.2837 - precision: 0.0000e+00 - recall: 0.0000e+00\n",
      "Epoch 15/30\n",
      "100/100 [==============================] - 22s 215ms/step - loss: 0.2571 - accuracy: 0.2338 - precision: 0.0000e+00 - recall: 0.0000e+00\n",
      "Epoch 16/30\n",
      "100/100 [==============================] - 22s 216ms/step - loss: 0.2683 - accuracy: 0.2675 - precision: 0.0000e+00 - recall: 0.0000e+00\n",
      "Epoch 17/30\n",
      "100/100 [==============================] - 21s 206ms/step - loss: 0.2620 - accuracy: 0.2488 - precision: 0.0000e+00 - recall: 0.0000e+00\n",
      "Epoch 18/30\n",
      "100/100 [==============================] - 22s 217ms/step - loss: 0.2666 - accuracy: 0.2625 - precision: 0.0000e+00 - recall: 0.0000e+00\n",
      "Epoch 19/30\n",
      "100/100 [==============================] - 22s 215ms/step - loss: 0.2637 - accuracy: 0.2537 - precision: 0.0000e+00 - recall: 0.0000e+00\n",
      "Epoch 20/30\n",
      "100/100 [==============================] - 21s 212ms/step - loss: 0.2662 - accuracy: 0.2612 - precision: 0.0000e+00 - recall: 0.0000e+00\n",
      "Epoch 21/30\n",
      "100/100 [==============================] - 21s 214ms/step - loss: 0.2645 - accuracy: 0.2562 - precision: 0.0000e+00 - recall: 0.0000e+00\n",
      "Epoch 22/30\n",
      "100/100 [==============================] - 21s 212ms/step - loss: 0.2586 - accuracy: 0.3013 - precision: 0.7404 - recall: 0.1264\n",
      "Epoch 23/30\n",
      "100/100 [==============================] - 21s 206ms/step - loss: 0.2641 - accuracy: 0.7450 - precision: 0.7450 - recall: 1.0000\n",
      "Epoch 24/30\n",
      "100/100 [==============================] - 21s 212ms/step - loss: 0.2581 - accuracy: 0.7625 - precision: 0.7625 - recall: 1.0000\n",
      "Epoch 25/30\n",
      "100/100 [==============================] - 22s 215ms/step - loss: 0.2663 - accuracy: 0.7387 - precision: 0.7387 - recall: 1.0000\n",
      "Epoch 26/30\n",
      "100/100 [==============================] - 22s 214ms/step - loss: 0.2641 - accuracy: 0.7450 - precision: 0.7450 - recall: 1.0000\n",
      "Epoch 27/30\n",
      "100/100 [==============================] - 22s 215ms/step - loss: 0.2667 - accuracy: 0.7375 - precision: 0.7375 - recall: 1.0000\n",
      "Epoch 28/30\n",
      "100/100 [==============================] - 22s 219ms/step - loss: 0.2645 - accuracy: 0.7437 - precision: 0.7437 - recall: 1.0000\n",
      "Epoch 29/30\n",
      "100/100 [==============================] - 21s 210ms/step - loss: 0.2607 - accuracy: 0.7550 - precision: 0.7550 - recall: 1.0000\n",
      "Epoch 30/30\n",
      "100/100 [==============================] - 21s 213ms/step - loss: 0.2602 - accuracy: 0.7563 - precision: 0.7563 - recall: 1.0000\n"
     ]
    }
   ],
   "source": [
    "history = model.fit(\n",
    "    train, \n",
    "    epochs=30,\n",
    "    validation_data=validation, \n",
    "    class_weight=class_weight,\n",
    "    steps_per_epoch=100,\n",
    "    validation_steps=25,\n",
    ")"
   ]
  },
  {
   "cell_type": "markdown",
   "id": "a5a99719",
   "metadata": {
    "papermill": {
     "duration": 0.318309,
     "end_time": "2023-06-29T00:53:45.578204",
     "exception": false,
     "start_time": "2023-06-29T00:53:45.259895",
     "status": "completed"
    },
    "tags": []
   },
   "source": [
    "## Predict and evaluation"
   ]
  },
  {
   "cell_type": "code",
   "execution_count": 19,
   "id": "24ea18ac",
   "metadata": {
    "execution": {
     "iopub.execute_input": "2023-06-29T00:53:46.106873Z",
     "iopub.status.busy": "2023-06-29T00:53:46.106457Z",
     "iopub.status.idle": "2023-06-29T00:53:47.617419Z",
     "shell.execute_reply": "2023-06-29T00:53:47.616253Z"
    },
    "papermill": {
     "duration": 1.786893,
     "end_time": "2023-06-29T00:53:47.619741",
     "exception": false,
     "start_time": "2023-06-29T00:53:45.832848",
     "status": "completed"
    },
    "tags": []
   },
   "outputs": [
    {
     "data": {
      "image/png": "[encoded data removed]",
      "text/plain": [
       "<Figure size 2000x300 with 4 Axes>"
      ]
     },
     "metadata": {},
     "output_type": "display_data"
    }
   ],
   "source": [
    "fig, ax = plt.subplots(1, 4, figsize=(20, 3))\n",
    "ax = ax.ravel()\n",
    "\n",
    "for i, met in enumerate(['precision', 'recall', 'accuracy', 'loss']):\n",
    "    ax[i].plot(history.history[met])\n",
    "    ax[i].plot(history.history['val_' + met])\n",
    "    ax[i].set_title('Model {}'.format(met))\n",
    "    ax[i].set_xlabel('epochs')\n",
    "    ax[i].set_ylabel(met)\n",
    "    ax[i].legend(['train', 'val'])"
   ]
  },
  {
   "cell_type": "code",
   "execution_count": 20,
   "id": "f8c9971d",
   "metadata": {
    "execution": {
     "iopub.execute_input": "2023-06-29T00:53:48.150716Z",
     "iopub.status.busy": "2023-06-29T00:53:48.150069Z",
     "iopub.status.idle": "2023-06-29T00:54:06.588614Z",
     "shell.execute_reply": "2023-06-29T00:54:06.587367Z"
    },
    "papermill": {
     "duration": 18.705657,
     "end_time": "2023-06-29T00:54:06.590957",
     "exception": false,
     "start_time": "2023-06-29T00:53:47.885300",
     "status": "completed"
    },
    "tags": []
   },
   "outputs": [
    {
     "name": "stdout",
     "output_type": "stream",
     "text": [
      "624/624 [==============================] - 18s 29ms/step - loss: 0.6907 - accuracy: 0.6250 - precision: 0.6250 - recall: 1.0000\n"
     ]
    }
   ],
   "source": [
    "loss, acc, prec, rec = model.evaluate(test)"
   ]
  }
 ],
 "metadata": {
  "kernelspec": {
   "display_name": "Python 3",
   "language": "python",
   "name": "python3"
  },
  "language_info": {
   "codemirror_mode": {
    "name": "ipython",
    "version": 3
   },
   "file_extension": ".py",
   "mimetype": "text/x-python",
   "name": "python",
   "nbconvert_exporter": "python",
   "pygments_lexer": "ipython3",
   "version": "3.10.10"
  },
  "papermill": {
   "default_parameters": {},
   "duration": 1027.488274,
   "end_time": "2023-06-29T00:54:10.025659",
   "environment_variables": {},
   "exception": null,
   "input_path": "__notebook__.ipynb",
   "output_path": "__notebook__.ipynb",
   "parameters": {},
   "start_time": "2023-06-29T00:37:02.537385",
   "version": "2.4.0"
  }
 },
 "nbformat": 4,
 "nbformat_minor": 5
}
